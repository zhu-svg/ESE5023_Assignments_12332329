{
 "cells": [
  {
   "cell_type": "markdown",
   "id": "5d179b92",
   "metadata": {},
   "source": [
    "Assignment 5 (due on 12/20)\n",
    "\n",
    "Student：朱昱光（12332329），Gtihub：zhu-svg\n",
    "\n",
    "批改人：赵淑慧\n",
    "\n",
    "得分：36/40\n",
    "\n",
    "Bonus：13/15"
   ]
  },
  {
   "cell_type": "markdown",
   "id": "70212191",
   "metadata": {},
   "source": [
    "1.1 13/15 算1987年的N1时，应使用1986年的gamma\n",
    "\n",
    "1.2 18/20 同上\n",
    "\n",
    "1.3 5/5 此处其实不应用线性拟合的值，因为题目没有用线性拟合\n",
    "\n",
    "1.4 13/15 算1751年的N1时，应使用1750年的gamma"
   ]
  }
 ],
 "metadata": {
  "kernelspec": {
   "display_name": "Python 3 (ipykernel)",
   "language": "python",
   "name": "python3"
  },
  "language_info": {
   "codemirror_mode": {
    "name": "ipython",
    "version": 3
   },
   "file_extension": ".py",
   "mimetype": "text/x-python",
   "name": "python",
   "nbconvert_exporter": "python",
   "pygments_lexer": "ipython3",
   "version": "3.8.8"
  }
 },
 "nbformat": 4,
 "nbformat_minor": 5
}
